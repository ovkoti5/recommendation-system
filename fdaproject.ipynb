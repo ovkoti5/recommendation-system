{
 "cells": [
  {
   "cell_type": "markdown",
   "id": "ab7866a4",
   "metadata": {},
   "source": [
    "Dataset Information"
   ]
  },
  {
   "cell_type": "markdown",
   "id": "e87e280a",
   "metadata": {},
   "source": [
    "Million Songs Dataset contains of two files: triplet_file and metadata_file. \n",
    "The triplet_file contains user_id, song_id and listen time.\n",
    "The metadata_file contains song_id, title, release, year and artist_name. \n",
    "Million Songs Dataset is a mixture of song from various website with the rating that users gave after listening to the song."
   ]
  },
  {
   "cell_type": "markdown",
   "id": "562333c3",
   "metadata": {},
   "source": [
    "There are 3 types of recommendation system: content-based, collaborative and popularity."
   ]
  },
  {
   "cell_type": "markdown",
   "id": "e5b93255",
   "metadata": {},
   "source": [
    "Import modules"
   ]
  },
  {
   "cell_type": "code",
   "execution_count": null,
   "id": "9bd7474f",
   "metadata": {},
   "outputs": [],
   "source": [
    "import pandas as pd\n",
    "import numpy as np\n"
   ]
  },
  {
   "cell_type": "code",
   "execution_count": null,
   "id": "2052bee7",
   "metadata": {},
   "outputs": [],
   "source": [
    "song_df_1 = pd.read_csv('C:\\\\Users\\\\govin\\\\OneDrive\\\\Desktop\\\\project\\\\recomm\\\\triplets_file.csv')\n",
    "song_df_1.head()"
   ]
  },
  {
   "cell_type": "code",
   "execution_count": null,
   "id": "577e1012",
   "metadata": {},
   "outputs": [],
   "source": [
    "song_df_2 = pd.read_csv('C:\\\\Users\\\\govin\\\\Downloads\\\\song_data.csv')\n",
    "song_df_2.head()"
   ]
  },
  {
   "cell_type": "code",
   "execution_count": null,
   "id": "b2671a82",
   "metadata": {},
   "outputs": [],
   "source": [
    "# combine both data\n",
    "song_df = pd.merge(song_df_1, song_df_2.drop_duplicates(['song_id']), on='song_id', how='left')\n",
    "song_df.head()"
   ]
  },
  {
   "cell_type": "code",
   "execution_count": null,
   "id": "86dc5a3a",
   "metadata": {},
   "outputs": [],
   "source": [
    "print(len(song_df_1), len(song_df_2))"
   ]
  },
  {
   "cell_type": "code",
   "execution_count": null,
   "id": "66887124",
   "metadata": {},
   "outputs": [],
   "source": [
    "len(song_df)"
   ]
  },
  {
   "cell_type": "markdown",
   "id": "98f57129",
   "metadata": {},
   "source": [
    "Data Preprocessing"
   ]
  },
  {
   "cell_type": "code",
   "execution_count": null,
   "id": "1710fa11",
   "metadata": {},
   "outputs": [],
   "source": [
    "# creating new feature combining title and artist name\n",
    "song_df['song'] = song_df['title']+' - '+song_df['artist_name']\n",
    "song_df.head()"
   ]
  },
  {
   "cell_type": "code",
   "execution_count": null,
   "id": "0f3c0372",
   "metadata": {},
   "outputs": [],
   "source": [
    "# taking top 10k samples for quick results\n",
    "song_df = song_df.head(10000)"
   ]
  },
  {
   "cell_type": "code",
   "execution_count": null,
   "id": "81ea5457",
   "metadata": {},
   "outputs": [],
   "source": [
    "# cummulative sum of listen count of the songs\n",
    "song_grouped = song_df.groupby(['song']).agg({'listen_count':'count'}).reset_index()\n",
    "song_grouped.head()"
   ]
  },
  {
   "cell_type": "code",
   "execution_count": null,
   "id": "84cf8ad5",
   "metadata": {},
   "outputs": [],
   "source": [
    "grouped_sum = song_grouped['listen_count'].sum()\n",
    "song_grouped['percentage'] = (song_grouped['listen_count'] / grouped_sum ) * 100\n",
    "song_grouped.sort_values(['listen_count', 'song'], ascending=[0,1])"
   ]
  },
  {
   "cell_type": "markdown",
   "id": "b9ee4ec4",
   "metadata": {},
   "source": [
    "Popularity Recommendation Engine"
   ]
  },
  {
   "cell_type": "code",
   "execution_count": null,
   "id": "ce2513d1",
   "metadata": {},
   "outputs": [],
   "source": [
    "import Recommenders as Recommenders"
   ]
  },
  {
   "cell_type": "code",
   "execution_count": null,
   "id": "afaaf6f1",
   "metadata": {},
   "outputs": [],
   "source": [
    "pr = Recommenders.popularity_recommender_py()"
   ]
  },
  {
   "cell_type": "code",
   "execution_count": null,
   "id": "6195e4ef",
   "metadata": {},
   "outputs": [],
   "source": [
    "pr.create(song_df, 'user_id', 'song')"
   ]
  },
  {
   "cell_type": "code",
   "execution_count": null,
   "id": "153c7eff",
   "metadata": {},
   "outputs": [],
   "source": [
    "# display the top 10 popular songs\n",
    "pr.recommend(song_df['user_id'][5])"
   ]
  },
  {
   "cell_type": "code",
   "execution_count": null,
   "id": "03e56754",
   "metadata": {},
   "outputs": [],
   "source": [
    "pr.recommend(song_df['user_id'][100])"
   ]
  },
  {
   "cell_type": "markdown",
   "id": "02e3ac40",
   "metadata": {},
   "source": [
    "##Item Similarity Recommendation"
   ]
  },
  {
   "cell_type": "code",
   "execution_count": null,
   "id": "2570b972",
   "metadata": {},
   "outputs": [],
   "source": [
    "ir = Recommenders.item_similarity_recommender_py()\n",
    "ir.create(song_df, 'user_id', 'song')"
   ]
  },
  {
   "cell_type": "code",
   "execution_count": null,
   "id": "ea022289",
   "metadata": {},
   "outputs": [],
   "source": [
    "user_items = ir.get_user_items(song_df['user_id'][5])"
   ]
  },
  {
   "cell_type": "code",
   "execution_count": null,
   "id": "60549042",
   "metadata": {},
   "outputs": [],
   "source": [
    "# display user songs history\n",
    "for user_item in user_items:\n",
    "    print(user_item)"
   ]
  },
  {
   "cell_type": "code",
   "execution_count": null,
   "id": "886a676d",
   "metadata": {},
   "outputs": [],
   "source": [
    "# give song recommendation for that user\n",
    "ir.recommend(song_df['user_id'][5])"
   ]
  },
  {
   "cell_type": "code",
   "execution_count": null,
   "id": "4587a88d",
   "metadata": {},
   "outputs": [],
   "source": [
    "# give related songs based on the words\n",
    "ir.get_similar_items(['Oliver James - Fleet Foxes', 'The End - Pearl Jam'])"
   ]
  }
 ],
 "metadata": {
  "kernelspec": {
   "display_name": "Python 3.10.8 64-bit (microsoft store)",
   "language": "python",
   "name": "python3"
  },
  "language_info": {
   "codemirror_mode": {
    "name": "ipython",
    "version": 3
   },
   "file_extension": ".py",
   "mimetype": "text/x-python",
   "name": "python",
   "nbconvert_exporter": "python",
   "pygments_lexer": "ipython3",
   "version": "3.10.8"
  },
  "vscode": {
   "interpreter": {
    "hash": "1df8fcfbb4ca946b3decb9e2da11884d2a18eb02925c63c979cd46545a3cbc21"
   }
  }
 },
 "nbformat": 4,
 "nbformat_minor": 5
}
